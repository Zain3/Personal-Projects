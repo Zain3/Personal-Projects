{
 "cells": [
  {
   "cell_type": "markdown",
   "metadata": {},
   "source": [
    "# 1. Import Dependencies"
   ]
  },
  {
   "cell_type": "code",
   "execution_count": 36,
   "metadata": {},
   "outputs": [
    {
     "name": "stdout",
     "output_type": "stream",
     "text": [
      "^C\n"
     ]
    }
   ],
   "source": [
    "!pip uninstall opencv-python"
   ]
  },
  {
   "cell_type": "code",
   "execution_count": 37,
   "metadata": {},
   "outputs": [
    {
     "name": "stdout",
     "output_type": "stream",
     "text": [
      "Requirement already satisfied: opencv-python in c:\\users\\zainn\\desktop\\tfod2\\tfodcourse\\tfod\\lib\\site-packages (4.6.0.66)\n",
      "Requirement already satisfied: numpy>=1.17.3 in c:\\users\\zainn\\desktop\\tfod2\\tfodcourse\\tfod\\lib\\site-packages (from opencv-python) (1.23.5)\n"
     ]
    }
   ],
   "source": [
    "!pip install opencv-python"
   ]
  },
  {
   "cell_type": "code",
   "execution_count": 1,
   "metadata": {},
   "outputs": [],
   "source": [
    "# Import opencv\n",
    "import cv2 \n",
    "\n",
    "# Import uuid\n",
    "import uuid\n",
    "\n",
    "# Import Operating System\n",
    "import os\n",
    "\n",
    "# Import time\n",
    "import time"
   ]
  },
  {
   "cell_type": "markdown",
   "metadata": {},
   "source": [
    "# 2. Define Images to Collect"
   ]
  },
  {
   "cell_type": "code",
   "execution_count": 2,
   "metadata": {},
   "outputs": [],
   "source": [
    "labels = ['thumbsup', 'thumbsdown', 'thankyou', 'livelong']\n",
    "number_imgs = 7"
   ]
  },
  {
   "cell_type": "markdown",
   "metadata": {},
   "source": [
    "# 3. Setup Folders "
   ]
  },
  {
   "cell_type": "code",
   "execution_count": 3,
   "metadata": {},
   "outputs": [],
   "source": [
    "IMAGES_PATH = os.path.join('Tensorflow', 'workspace', 'images', 'collectedimages')"
   ]
  },
  {
   "cell_type": "code",
   "execution_count": 4,
   "metadata": {},
   "outputs": [],
   "source": [
    "if not os.path.exists(IMAGES_PATH):\n",
    "    if os.name == 'posix':\n",
    "        !mkdir -p {IMAGES_PATH}\n",
    "    if os.name == 'nt':\n",
    "         !mkdir {IMAGES_PATH}\n",
    "for label in labels:\n",
    "    path = os.path.join(IMAGES_PATH, label)\n",
    "    if not os.path.exists(path):\n",
    "        !mkdir {path}"
   ]
  },
  {
   "cell_type": "markdown",
   "metadata": {},
   "source": [
    "# 4. Capture Images"
   ]
  },
  {
   "cell_type": "code",
   "execution_count": 11,
   "metadata": {},
   "outputs": [
    {
     "name": "stdout",
     "output_type": "stream",
     "text": [
      "Collecting images for thumbsup\n",
      "Collecting image 0\n",
      "Tensorflow\\workspace\\images\\collectedimages\\thumbsup\\thumbsup.2d1d3b06-7b8c-11ed-8d3d-c403a8f5fe56.jpg\n",
      "Collecting image 1\n",
      "Tensorflow\\workspace\\images\\collectedimages\\thumbsup\\thumbsup.2e505970-7b8c-11ed-b225-c403a8f5fe56.jpg\n",
      "Collecting image 2\n",
      "Tensorflow\\workspace\\images\\collectedimages\\thumbsup\\thumbsup.2f8693eb-7b8c-11ed-b7a3-c403a8f5fe56.jpg\n",
      "Collecting image 3\n",
      "Tensorflow\\workspace\\images\\collectedimages\\thumbsup\\thumbsup.30bb2537-7b8c-11ed-90fb-c403a8f5fe56.jpg\n",
      "Collecting image 4\n",
      "Tensorflow\\workspace\\images\\collectedimages\\thumbsup\\thumbsup.31f20b31-7b8c-11ed-9edb-c403a8f5fe56.jpg\n",
      "Collecting image 5\n",
      "Tensorflow\\workspace\\images\\collectedimages\\thumbsup\\thumbsup.33278bc9-7b8c-11ed-b1e3-c403a8f5fe56.jpg\n",
      "Collecting image 6\n",
      "Tensorflow\\workspace\\images\\collectedimages\\thumbsup\\thumbsup.345c567d-7b8c-11ed-bb82-c403a8f5fe56.jpg\n",
      "Collecting images for thumbsdown\n",
      "Collecting image 0\n",
      "Tensorflow\\workspace\\images\\collectedimages\\thumbsdown\\thumbsdown.3a000357-7b8c-11ed-bd17-c403a8f5fe56.jpg\n",
      "Collecting image 1\n",
      "Tensorflow\\workspace\\images\\collectedimages\\thumbsdown\\thumbsdown.3b35dcf9-7b8c-11ed-969e-c403a8f5fe56.jpg\n",
      "Collecting image 2\n",
      "Tensorflow\\workspace\\images\\collectedimages\\thumbsdown\\thumbsdown.3c69322c-7b8c-11ed-b94c-c403a8f5fe56.jpg\n",
      "Collecting image 3\n",
      "Tensorflow\\workspace\\images\\collectedimages\\thumbsdown\\thumbsdown.3d9deb67-7b8c-11ed-a619-c403a8f5fe56.jpg\n",
      "Collecting image 4\n",
      "Tensorflow\\workspace\\images\\collectedimages\\thumbsdown\\thumbsdown.3ed144cc-7b8c-11ed-ab9c-c403a8f5fe56.jpg\n",
      "Collecting image 5\n",
      "Tensorflow\\workspace\\images\\collectedimages\\thumbsdown\\thumbsdown.40047f8d-7b8c-11ed-b3c7-c403a8f5fe56.jpg\n",
      "Collecting image 6\n",
      "Tensorflow\\workspace\\images\\collectedimages\\thumbsdown\\thumbsdown.413aa0f1-7b8c-11ed-a144-c403a8f5fe56.jpg\n",
      "Collecting images for thankyou\n",
      "Collecting image 0\n",
      "Tensorflow\\workspace\\images\\collectedimages\\thankyou\\thankyou.46ec59ed-7b8c-11ed-9340-c403a8f5fe56.jpg\n",
      "Collecting image 1\n",
      "Tensorflow\\workspace\\images\\collectedimages\\thankyou\\thankyou.48208914-7b8c-11ed-b7b7-c403a8f5fe56.jpg\n",
      "Collecting image 2\n",
      "Tensorflow\\workspace\\images\\collectedimages\\thankyou\\thankyou.49552666-7b8c-11ed-a6d5-c403a8f5fe56.jpg\n",
      "Collecting image 3\n",
      "Tensorflow\\workspace\\images\\collectedimages\\thankyou\\thankyou.4a894a80-7b8c-11ed-a76f-c403a8f5fe56.jpg\n",
      "Collecting image 4\n",
      "Tensorflow\\workspace\\images\\collectedimages\\thankyou\\thankyou.4bbc9838-7b8c-11ed-ba02-c403a8f5fe56.jpg\n",
      "Collecting image 5\n",
      "Tensorflow\\workspace\\images\\collectedimages\\thankyou\\thankyou.4cf37c8a-7b8c-11ed-be05-c403a8f5fe56.jpg\n",
      "Collecting image 6\n",
      "Tensorflow\\workspace\\images\\collectedimages\\thankyou\\thankyou.4e288567-7b8c-11ed-906a-c403a8f5fe56.jpg\n",
      "Collecting images for livelong\n",
      "Collecting image 0\n",
      "Tensorflow\\workspace\\images\\collectedimages\\livelong\\livelong.53e9b1ae-7b8c-11ed-aaa6-c403a8f5fe56.jpg\n",
      "Collecting image 1\n",
      "Tensorflow\\workspace\\images\\collectedimages\\livelong\\livelong.551e15c5-7b8c-11ed-a6ee-c403a8f5fe56.jpg\n",
      "Collecting image 2\n",
      "Tensorflow\\workspace\\images\\collectedimages\\livelong\\livelong.56539c67-7b8c-11ed-9267-c403a8f5fe56.jpg\n",
      "Collecting image 3\n",
      "Tensorflow\\workspace\\images\\collectedimages\\livelong\\livelong.578a7273-7b8c-11ed-a36a-c403a8f5fe56.jpg\n",
      "Collecting image 4\n",
      "Tensorflow\\workspace\\images\\collectedimages\\livelong\\livelong.58bdfa3b-7b8c-11ed-95a6-c403a8f5fe56.jpg\n",
      "Collecting image 5\n",
      "Tensorflow\\workspace\\images\\collectedimages\\livelong\\livelong.59f37d46-7b8c-11ed-a5cb-c403a8f5fe56.jpg\n",
      "Collecting image 6\n",
      "Tensorflow\\workspace\\images\\collectedimages\\livelong\\livelong.5b2afae0-7b8c-11ed-83e6-c403a8f5fe56.jpg\n"
     ]
    }
   ],
   "source": [
    "for label in labels:\n",
    "    cap = cv2.VideoCapture(0)\n",
    "    print('Collecting images for {}'.format(label))\n",
    "    time.sleep(5)\n",
    "    for imgnum in range(number_imgs):\n",
    "        print('Collecting image {}'.format(imgnum))\n",
    "        ret, frame = cap.read()\n",
    "        imgname = os.path.join(IMAGES_PATH,label,label+'.'+'{}.jpg'.format(str(uuid.uuid1())))\n",
    "        print(imgname)\n",
    "        cv2.imwrite(imgname, frame)\n",
    "        cv2.imshow('frame', frame)\n",
    "        time.sleep(2)\n",
    "\n",
    "        if cv2.waitKey(1) & 0xFF == ord('q'):\n",
    "            break\n",
    "cap.release()\n",
    "cv2.destroyAllWindows()"
   ]
  },
  {
   "cell_type": "markdown",
   "metadata": {},
   "source": [
    "# 5. Image Labelling"
   ]
  },
  {
   "cell_type": "code",
   "execution_count": null,
   "metadata": {},
   "outputs": [],
   "source": [
    "!pip install --upgrade pyqt5 lxml"
   ]
  },
  {
   "cell_type": "code",
   "execution_count": 5,
   "metadata": {},
   "outputs": [],
   "source": [
    "LABELIMG_PATH = os.path.join('Tensorflow', 'labelimg')"
   ]
  },
  {
   "cell_type": "code",
   "execution_count": 6,
   "metadata": {},
   "outputs": [],
   "source": [
    "if not os.path.exists(LABELIMG_PATH):\n",
    "    !mkdir {LABELIMG_PATH}\n",
    "    !git clone https://github.com/tzutalin/labelImg {LABELIMG_PATH}"
   ]
  },
  {
   "cell_type": "code",
   "execution_count": 7,
   "metadata": {},
   "outputs": [],
   "source": [
    "if os.name == 'posix':\n",
    "    !make qt5py3\n",
    "if os.name =='nt':\n",
    "    !cd {LABELIMG_PATH} && pyrcc5 -o libs/resources.py resources.qrc"
   ]
  },
  {
   "cell_type": "code",
   "execution_count": 8,
   "metadata": {},
   "outputs": [
    {
     "name": "stdout",
     "output_type": "stream",
     "text": [
      "^C\n"
     ]
    }
   ],
   "source": [
    "!cd {LABELIMG_PATH} && python labelImg.py"
   ]
  },
  {
   "cell_type": "markdown",
   "metadata": {},
   "source": [
    "# 6. Move them into a Training and Testing Partition"
   ]
  },
  {
   "cell_type": "markdown",
   "metadata": {},
   "source": [
    "# OPTIONAL - 7. Compress them for Colab Training"
   ]
  },
  {
   "cell_type": "code",
   "execution_count": null,
   "metadata": {},
   "outputs": [],
   "source": [
    "TRAIN_PATH = os.path.join('Tensorflow', 'workspace', 'images', 'train')\n",
    "TEST_PATH = os.path.join('Tensorflow', 'workspace', 'images', 'test')\n",
    "ARCHIVE_PATH = os.path.join('Tensorflow', 'workspace', 'images', 'archive.tar.gz')"
   ]
  },
  {
   "cell_type": "code",
   "execution_count": null,
   "metadata": {},
   "outputs": [],
   "source": [
    "!tar -czf {ARCHIVE_PATH} {TRAIN_PATH} {TEST_PATH}"
   ]
  },
  {
   "cell_type": "code",
   "execution_count": null,
   "metadata": {},
   "outputs": [],
   "source": []
  }
 ],
 "metadata": {
  "kernelspec": {
   "display_name": "tfodj",
   "language": "python",
   "name": "tfodj"
  },
  "language_info": {
   "codemirror_mode": {
    "name": "ipython",
    "version": 3
   },
   "file_extension": ".py",
   "mimetype": "text/x-python",
   "name": "python",
   "nbconvert_exporter": "python",
   "pygments_lexer": "ipython3",
   "version": "3.9.13"
  }
 },
 "nbformat": 4,
 "nbformat_minor": 2
}
